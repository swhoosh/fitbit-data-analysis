{
 "cells": [
  {
   "cell_type": "markdown",
   "id": "97b3b0e3",
   "metadata": {
    "papermill": {
     "duration": 0.0118,
     "end_time": "2022-10-25T16:46:38.473822",
     "exception": false,
     "start_time": "2022-10-25T16:46:38.462022",
     "status": "completed"
    },
    "tags": []
   },
   "source": [
    "# About the project #\n",
    "\n",
    "The goal is **to find some insights from health smart devices data** in order to improve marketing strategy for BellaBeat, a high-tech manufacturer of health-focused\n",
    "products for women."
   ]
  },
  {
   "cell_type": "markdown",
   "id": "17151047",
   "metadata": {
    "papermill": {
     "duration": 0.00958,
     "end_time": "2022-10-25T16:46:38.493506",
     "exception": false,
     "start_time": "2022-10-25T16:46:38.483926",
     "status": "completed"
    },
    "tags": []
   },
   "source": [
    "I will be using Python along with pandas, matplotlib and seaborn for this data because I'm more comfortable with them."
   ]
  },
  {
   "cell_type": "markdown",
   "id": "6c94ac16",
   "metadata": {
    "papermill": {
     "duration": 0.00966,
     "end_time": "2022-10-25T16:46:38.513128",
     "exception": false,
     "start_time": "2022-10-25T16:46:38.503468",
     "status": "completed"
    },
    "tags": []
   },
   "source": [
    "# Importing libraries #"
   ]
  },
  {
   "cell_type": "code",
   "execution_count": 2,
   "id": "d6c0dc08",
   "metadata": {
    "_cell_guid": "b1076dfc-b9ad-4769-8c92-a6c4dae69d19",
    "_uuid": "8f2839f25d086af736a60e9eeb907d3b93b6e0e5",
    "execution": {
     "iopub.execute_input": "2022-10-25T16:46:38.535461Z",
     "iopub.status.busy": "2022-10-25T16:46:38.534717Z",
     "iopub.status.idle": "2022-10-25T16:46:39.637156Z",
     "shell.execute_reply": "2022-10-25T16:46:39.636225Z"
    },
    "papermill": {
     "duration": 1.116893,
     "end_time": "2022-10-25T16:46:39.640036",
     "exception": false,
     "start_time": "2022-10-25T16:46:38.523143",
     "status": "completed"
    },
    "tags": []
   },
   "outputs": [],
   "source": [
    "import numpy as np\n",
    "import pandas as pd \n",
    "import matplotlib.pyplot as plt\n",
    "import seaborn as sns\n",
    "sns.set()"
   ]
  },
  {
   "cell_type": "markdown",
   "id": "25f4bd89",
   "metadata": {
    "papermill": {
     "duration": 0.010459,
     "end_time": "2022-10-25T16:46:39.660783",
     "exception": false,
     "start_time": "2022-10-25T16:46:39.650324",
     "status": "completed"
    },
    "tags": []
   },
   "source": [
    "# Ask : understanding the problem\n",
    "\n",
    "1. What are insights in smart device usage?\n",
    "2. How can we apply these trends to BellaBeat customers?\n",
    "3. How can these insights create recommendations for BellaBeat marketing strategy?"
   ]
  },
  {
   "cell_type": "markdown",
   "id": "85c5852e",
   "metadata": {
    "papermill": {
     "duration": 0.009758,
     "end_time": "2022-10-25T16:46:39.680617",
     "exception": false,
     "start_time": "2022-10-25T16:46:39.670859",
     "status": "completed"
    },
    "tags": []
   },
   "source": [
    "# Prepare : What do I need?"
   ]
  },
  {
   "cell_type": "markdown",
   "id": "b1ba4d2a",
   "metadata": {
    "papermill": {
     "duration": 0.010024,
     "end_time": "2022-10-25T16:46:39.701169",
     "exception": false,
     "start_time": "2022-10-25T16:46:39.691145",
     "status": "completed"
    },
    "tags": []
   },
   "source": [
    "For this project, I am using FitBit Fitness Tracker Data. [CLICK HERE](https://www.kaggle.com/datasets/arashnic/fitbit)\n",
    "\n",
    "Although the sample size is only about 30 it might not represent the who population but for practice we are going to analyze this data.\n",
    "\n",
    "The dataset we are going to use in this project are\n",
    "1. dailyActivity_merged\n",
    "2. sleepDay_merged\n",
    "3. hourlySteps_merged"
   ]
  },
  {
   "cell_type": "code",
   "execution_count": 3,
   "id": "81798d32",
   "metadata": {
    "execution": {
     "iopub.execute_input": "2022-10-25T16:46:39.723175Z",
     "iopub.status.busy": "2022-10-25T16:46:39.722795Z",
     "iopub.status.idle": "2022-10-25T16:46:39.786074Z",
     "shell.execute_reply": "2022-10-25T16:46:39.784858Z"
    },
    "papermill": {
     "duration": 0.077485,
     "end_time": "2022-10-25T16:46:39.788852",
     "exception": false,
     "start_time": "2022-10-25T16:46:39.711367",
     "status": "completed"
    },
    "tags": []
   },
   "outputs": [],
   "source": [
    "# importing dataset\n",
    "activity = pd.read_csv('./datasets/dailyActivity_merged.csv')\n",
    "sleep = pd.read_csv('./datasets/sleepDay_merged.csv')\n",
    "hr_steps = pd.read_csv(\"./datasets/hourlySteps_merged.csv\")"
   ]
  },
  {
   "cell_type": "markdown",
   "id": "15f21748",
   "metadata": {
    "papermill": {
     "duration": 0.009844,
     "end_time": "2022-10-25T16:46:39.809100",
     "exception": false,
     "start_time": "2022-10-25T16:46:39.799256",
     "status": "completed"
    },
    "tags": []
   },
   "source": [
    "# Process : Cleaning data"
   ]
  },
  {
   "cell_type": "code",
   "execution_count": 3,
   "id": "e08230fb",
   "metadata": {
    "execution": {
     "iopub.execute_input": "2022-10-25T16:46:39.831150Z",
     "iopub.status.busy": "2022-10-25T16:46:39.830737Z",
     "iopub.status.idle": "2022-10-25T16:46:39.845321Z",
     "shell.execute_reply": "2022-10-25T16:46:39.843706Z"
    },
    "papermill": {
     "duration": 0.028896,
     "end_time": "2022-10-25T16:46:39.847999",
     "exception": false,
     "start_time": "2022-10-25T16:46:39.819103",
     "status": "completed"
    },
    "tags": []
   },
   "outputs": [
    {
     "name": "stdout",
     "output_type": "stream",
     "text": [
      "activity na :\n"
     ]
    },
    {
     "data": {
      "text/plain": [
       "Id                          0\n",
       "ActivityDate                0\n",
       "TotalSteps                  0\n",
       "TotalDistance               0\n",
       "TrackerDistance             0\n",
       "LoggedActivitiesDistance    0\n",
       "VeryActiveDistance          0\n",
       "ModeratelyActiveDistance    0\n",
       "LightActiveDistance         0\n",
       "SedentaryActiveDistance     0\n",
       "VeryActiveMinutes           0\n",
       "FairlyActiveMinutes         0\n",
       "LightlyActiveMinutes        0\n",
       "SedentaryMinutes            0\n",
       "Calories                    0\n",
       "dtype: int64"
      ]
     },
     "execution_count": 3,
     "metadata": {},
     "output_type": "execute_result"
    }
   ],
   "source": [
    "# checking na\n",
    "print('activity na :')\n",
    "activity.isna().sum()"
   ]
  },
  {
   "cell_type": "code",
   "execution_count": 4,
   "id": "eff99277",
   "metadata": {
    "execution": {
     "iopub.execute_input": "2022-10-25T16:46:39.870262Z",
     "iopub.status.busy": "2022-10-25T16:46:39.869859Z",
     "iopub.status.idle": "2022-10-25T16:46:39.880021Z",
     "shell.execute_reply": "2022-10-25T16:46:39.878497Z"
    },
    "papermill": {
     "duration": 0.023949,
     "end_time": "2022-10-25T16:46:39.882432",
     "exception": false,
     "start_time": "2022-10-25T16:46:39.858483",
     "status": "completed"
    },
    "tags": []
   },
   "outputs": [
    {
     "name": "stdout",
     "output_type": "stream",
     "text": [
      "sleep na :\n"
     ]
    },
    {
     "data": {
      "text/plain": [
       "Id                    0\n",
       "SleepDay              0\n",
       "TotalSleepRecords     0\n",
       "TotalMinutesAsleep    0\n",
       "TotalTimeInBed        0\n",
       "dtype: int64"
      ]
     },
     "execution_count": 4,
     "metadata": {},
     "output_type": "execute_result"
    }
   ],
   "source": [
    "print('sleep na :')\n",
    "sleep.isna().sum()"
   ]
  },
  {
   "cell_type": "code",
   "execution_count": 5,
   "id": "910f3fd1",
   "metadata": {
    "execution": {
     "iopub.execute_input": "2022-10-25T16:46:39.905963Z",
     "iopub.status.busy": "2022-10-25T16:46:39.905537Z",
     "iopub.status.idle": "2022-10-25T16:46:39.916582Z",
     "shell.execute_reply": "2022-10-25T16:46:39.915448Z"
    },
    "papermill": {
     "duration": 0.025103,
     "end_time": "2022-10-25T16:46:39.918694",
     "exception": false,
     "start_time": "2022-10-25T16:46:39.893591",
     "status": "completed"
    },
    "tags": []
   },
   "outputs": [
    {
     "name": "stdout",
     "output_type": "stream",
     "text": [
      "hr_steps na :\n"
     ]
    },
    {
     "data": {
      "text/plain": [
       "Id              0\n",
       "ActivityHour    0\n",
       "StepTotal       0\n",
       "dtype: int64"
      ]
     },
     "execution_count": 5,
     "metadata": {},
     "output_type": "execute_result"
    }
   ],
   "source": [
    "print('hr_steps na :')\n",
    "hr_steps.isna().sum()\n",
    "# looks like there is no na"
   ]
  },
  {
   "cell_type": "markdown",
   "id": "105ab950",
   "metadata": {
    "papermill": {
     "duration": 0.01032,
     "end_time": "2022-10-25T16:46:39.939720",
     "exception": false,
     "start_time": "2022-10-25T16:46:39.929400",
     "status": "completed"
    },
    "tags": []
   },
   "source": [
    "# Checking for duplicates"
   ]
  },
  {
   "cell_type": "code",
   "execution_count": 6,
   "id": "7ee25463",
   "metadata": {
    "execution": {
     "iopub.execute_input": "2022-10-25T16:46:39.962871Z",
     "iopub.status.busy": "2022-10-25T16:46:39.962498Z",
     "iopub.status.idle": "2022-10-25T16:46:39.987408Z",
     "shell.execute_reply": "2022-10-25T16:46:39.985785Z"
    },
    "papermill": {
     "duration": 0.040157,
     "end_time": "2022-10-25T16:46:39.990586",
     "exception": false,
     "start_time": "2022-10-25T16:46:39.950429",
     "status": "completed"
    },
    "tags": []
   },
   "outputs": [
    {
     "name": "stdout",
     "output_type": "stream",
     "text": [
      "activity : 0\n",
      "sleep : 3\n",
      "hr_steps : 0\n"
     ]
    }
   ],
   "source": [
    "print('activity : ' +  str(activity.duplicated().sum()))\n",
    "print('sleep : ' +  str(sleep.duplicated().sum()))\n",
    "print('hr_steps : ' +  str(hr_steps.duplicated().sum()))"
   ]
  },
  {
   "cell_type": "code",
   "execution_count": 7,
   "id": "ddd709ae",
   "metadata": {
    "execution": {
     "iopub.execute_input": "2022-10-25T16:46:40.014310Z",
     "iopub.status.busy": "2022-10-25T16:46:40.013867Z",
     "iopub.status.idle": "2022-10-25T16:46:40.026812Z",
     "shell.execute_reply": "2022-10-25T16:46:40.025450Z"
    },
    "papermill": {
     "duration": 0.028004,
     "end_time": "2022-10-25T16:46:40.029638",
     "exception": false,
     "start_time": "2022-10-25T16:46:40.001634",
     "status": "completed"
    },
    "tags": []
   },
   "outputs": [
    {
     "name": "stdout",
     "output_type": "stream",
     "text": [
      "sleep : 0\n"
     ]
    }
   ],
   "source": [
    "# there is some duplicate in 'sleep' so we are going to remove it\n",
    "sleep = sleep[sleep.duplicated() == False]\n",
    "print('sleep : ' +  str(sleep.duplicated().sum()))"
   ]
  },
  {
   "cell_type": "code",
   "execution_count": 8,
   "id": "c24fdccf",
   "metadata": {
    "execution": {
     "iopub.execute_input": "2022-10-25T16:46:40.053902Z",
     "iopub.status.busy": "2022-10-25T16:46:40.053042Z",
     "iopub.status.idle": "2022-10-25T16:46:41.958752Z",
     "shell.execute_reply": "2022-10-25T16:46:41.957500Z"
    },
    "papermill": {
     "duration": 1.921119,
     "end_time": "2022-10-25T16:46:41.962200",
     "exception": false,
     "start_time": "2022-10-25T16:46:40.041081",
     "status": "completed"
    },
    "tags": []
   },
   "outputs": [
    {
     "data": {
      "text/plain": [
       "<seaborn.axisgrid.PairGrid at 0x7f89ee875d10>"
      ]
     },
     "execution_count": 8,
     "metadata": {},
     "output_type": "execute_result"
    },
    {
     "data": {
      "image/png": "[encoded data removed]",
      "text/plain": [
       "<Figure size 720x720 with 10 Axes>"
      ]
     },
     "metadata": {},
     "output_type": "display_data"
    }
   ],
   "source": [
    "sns.pairplot(activity, \n",
    "             x_vars = ['VeryActiveMinutes', 'FairlyActiveMinutes', 'LightlyActiveMinutes', 'SedentaryMinutes'],\n",
    "             y_vars = ['VeryActiveDistance', 'ModeratelyActiveDistance', 'LightActiveDistance', 'SedentaryActiveDistance'],\n",
    "             height = 2.5, corner = True)"
   ]
  },
  {
   "cell_type": "markdown",
   "id": "b0e31484",
   "metadata": {
    "papermill": {
     "duration": 0.012307,
     "end_time": "2022-10-25T16:46:41.987064",
     "exception": false,
     "start_time": "2022-10-25T16:46:41.974757",
     "status": "completed"
    },
    "tags": []
   },
   "source": [
    "from the pairplot below we can see that Distance and Minutes always goes together \n",
    "except from being sedentary, since when we stay still, if the distance increases it won't make any sense right?\n",
    "Hence, we are going to remove 'distance' columns because they are indicated in 'minutes' columns already so we don't need both.\n",
    "This applies the same with ['TotalSteps', 'TotalDistance', 'TrackerDistance']. \n",
    "I am going to keep 'TotalSteps' since it's easier to imagine how many steps it is than 'kilometers'"
   ]
  },
  {
   "cell_type": "code",
   "execution_count": 9,
   "id": "69efc79c",
   "metadata": {
    "execution": {
     "iopub.execute_input": "2022-10-25T16:46:42.013895Z",
     "iopub.status.busy": "2022-10-25T16:46:42.013502Z",
     "iopub.status.idle": "2022-10-25T16:46:42.028037Z",
     "shell.execute_reply": "2022-10-25T16:46:42.026660Z"
    },
    "papermill": {
     "duration": 0.031056,
     "end_time": "2022-10-25T16:46:42.030592",
     "exception": false,
     "start_time": "2022-10-25T16:46:41.999536",
     "status": "completed"
    },
    "tags": []
   },
   "outputs": [
    {
     "data": {
      "text/plain": [
       "count    940.000000\n",
       "mean       0.108171\n",
       "std        0.619897\n",
       "min        0.000000\n",
       "25%        0.000000\n",
       "50%        0.000000\n",
       "75%        0.000000\n",
       "max        4.942142\n",
       "Name: LoggedActivitiesDistance, dtype: float64"
      ]
     },
     "execution_count": 9,
     "metadata": {},
     "output_type": "execute_result"
    }
   ],
   "source": [
    "activity['LoggedActivitiesDistance'].describe()\n",
    "# I am also going to remove 'LoggedActivitiesDistance' since most of them are zeros and I don't know what it does."
   ]
  },
  {
   "cell_type": "code",
   "execution_count": 10,
   "id": "f2d99d63",
   "metadata": {
    "execution": {
     "iopub.execute_input": "2022-10-25T16:46:42.058219Z",
     "iopub.status.busy": "2022-10-25T16:46:42.057792Z",
     "iopub.status.idle": "2022-10-25T16:46:42.064352Z",
     "shell.execute_reply": "2022-10-25T16:46:42.063246Z"
    },
    "papermill": {
     "duration": 0.023204,
     "end_time": "2022-10-25T16:46:42.066628",
     "exception": false,
     "start_time": "2022-10-25T16:46:42.043424",
     "status": "completed"
    },
    "tags": []
   },
   "outputs": [],
   "source": [
    "activity.drop(columns = [ 'TotalDistance', 'TrackerDistance', 'LoggedActivitiesDistance', 'VeryActiveDistance',\n",
    "                        'ModeratelyActiveDistance', 'LightActiveDistance', 'SedentaryActiveDistance'], inplace = True)"
   ]
  },
  {
   "cell_type": "code",
   "execution_count": 11,
   "id": "e32e3782",
   "metadata": {
    "execution": {
     "iopub.execute_input": "2022-10-25T16:46:42.093912Z",
     "iopub.status.busy": "2022-10-25T16:46:42.093497Z",
     "iopub.status.idle": "2022-10-25T16:46:44.766283Z",
     "shell.execute_reply": "2022-10-25T16:46:44.764629Z"
    },
    "papermill": {
     "duration": 2.689742,
     "end_time": "2022-10-25T16:46:44.769136",
     "exception": false,
     "start_time": "2022-10-25T16:46:42.079394",
     "status": "completed"
    },
    "tags": []
   },
   "outputs": [
    {
     "name": "stdout",
     "output_type": "stream",
     "text": [
      "<class 'pandas.core.frame.DataFrame'>\n",
      "RangeIndex: 940 entries, 0 to 939\n",
      "Data columns (total 8 columns):\n",
      " #   Column                Non-Null Count  Dtype         \n",
      "---  ------                --------------  -----         \n",
      " 0   Id                    940 non-null    int64         \n",
      " 1   ActivityDate          940 non-null    datetime64[ns]\n",
      " 2   TotalSteps            940 non-null    int64         \n",
      " 3   VeryActiveMinutes     940 non-null    int64         \n",
      " 4   FairlyActiveMinutes   940 non-null    int64         \n",
      " 5   LightlyActiveMinutes  940 non-null    int64         \n",
      " 6   SedentaryMinutes      940 non-null    int64         \n",
      " 7   Calories              940 non-null    int64         \n",
      "dtypes: datetime64[ns](1), int64(7)\n",
      "memory usage: 58.9 KB\n"
     ]
    }
   ],
   "source": [
    "# I noticed that the 'ActivityDate' wasn't in datetime type yet. So, I'm going to convert it to datetime type.\n",
    "activity['ActivityDate'] = pd.to_datetime(activity['ActivityDate'])\n",
    "sleep['SleepDay'] = pd.to_datetime(sleep['SleepDay'])\n",
    "hr_steps['ActivityHour'] = pd.to_datetime(hr_steps['ActivityHour'])\n",
    "activity.info()"
   ]
  },
  {
   "cell_type": "code",
   "execution_count": 12,
   "id": "50284e1b",
   "metadata": {
    "execution": {
     "iopub.execute_input": "2022-10-25T16:46:44.796373Z",
     "iopub.status.busy": "2022-10-25T16:46:44.795931Z",
     "iopub.status.idle": "2022-10-25T16:46:44.805147Z",
     "shell.execute_reply": "2022-10-25T16:46:44.804084Z"
    },
    "papermill": {
     "duration": 0.02551,
     "end_time": "2022-10-25T16:46:44.807501",
     "exception": false,
     "start_time": "2022-10-25T16:46:44.781991",
     "status": "completed"
    },
    "tags": []
   },
   "outputs": [
    {
     "data": {
      "text/plain": [
       "1503960366    31\n",
       "4319703577    31\n",
       "8583815059    31\n",
       "8378563200    31\n",
       "8053475328    31\n",
       "7086361926    31\n",
       "6962181067    31\n",
       "5553957443    31\n",
       "4702921684    31\n",
       "4558609924    31\n",
       "1624580081    31\n",
       "4388161847    31\n",
       "4445114986    31\n",
       "8877689391    31\n",
       "1927972279    31\n",
       "2873212765    31\n",
       "2320127002    31\n",
       "4020332650    31\n",
       "2026352035    31\n",
       "1844505072    31\n",
       "2022484408    31\n",
       "3977333714    30\n",
       "1644430081    30\n",
       "5577150313    30\n",
       "8792009665    29\n",
       "6290855005    29\n",
       "6117666160    28\n",
       "6775888955    26\n",
       "7007744171    26\n",
       "3372868164    20\n",
       "8253242879    19\n",
       "2347167796    18\n",
       "4057192912     4\n",
       "Name: Id, dtype: int64"
      ]
     },
     "execution_count": 12,
     "metadata": {},
     "output_type": "execute_result"
    }
   ],
   "source": [
    "activity['Id'].value_counts()"
   ]
  },
  {
   "cell_type": "markdown",
   "id": "6aa4670c",
   "metadata": {
    "papermill": {
     "duration": 0.013055,
     "end_time": "2022-10-25T16:46:44.834264",
     "exception": false,
     "start_time": "2022-10-25T16:46:44.821209",
     "status": "completed"
    },
    "tags": []
   },
   "source": [
    "First, we are going to count how many days each participant provided their data.\n",
    "I saw that there is one participant who only provide 4 days of data which is too small and could potentially misdirect our analysis.\n",
    "Hence, I'm going to remove it."
   ]
  },
  {
   "cell_type": "code",
   "execution_count": 13,
   "id": "588ea0da",
   "metadata": {
    "execution": {
     "iopub.execute_input": "2022-10-25T16:46:44.862712Z",
     "iopub.status.busy": "2022-10-25T16:46:44.862274Z",
     "iopub.status.idle": "2022-10-25T16:46:44.869955Z",
     "shell.execute_reply": "2022-10-25T16:46:44.868853Z"
    },
    "papermill": {
     "duration": 0.024459,
     "end_time": "2022-10-25T16:46:44.872334",
     "exception": false,
     "start_time": "2022-10-25T16:46:44.847875",
     "status": "completed"
    },
    "tags": []
   },
   "outputs": [],
   "source": [
    "activity.drop(activity[activity['Id'] == 4057192912].index, inplace = True)"
   ]
  },
  {
   "cell_type": "markdown",
   "id": "69aee522",
   "metadata": {
    "papermill": {
     "duration": 0.012465,
     "end_time": "2022-10-25T16:46:44.897953",
     "exception": false,
     "start_time": "2022-10-25T16:46:44.885488",
     "status": "completed"
    },
    "tags": []
   },
   "source": [
    "# Analysis : seeing how long do participants wear smart device throughout the day"
   ]
  },
  {
   "cell_type": "code",
   "execution_count": 14,
   "id": "3d46261f",
   "metadata": {
    "execution": {
     "iopub.execute_input": "2022-10-25T16:46:44.925902Z",
     "iopub.status.busy": "2022-10-25T16:46:44.924928Z",
     "iopub.status.idle": "2022-10-25T16:46:44.954246Z",
     "shell.execute_reply": "2022-10-25T16:46:44.952607Z"
    },
    "papermill": {
     "duration": 0.047254,
     "end_time": "2022-10-25T16:46:44.957979",
     "exception": false,
     "start_time": "2022-10-25T16:46:44.910725",
     "status": "completed"
    },
    "tags": []
   },
   "outputs": [
    {
     "data": {
      "text/html": [
       "<div>\n",
       "<style scoped>\n",
       "    .dataframe tbody tr th:only-of-type {\n",
       "        vertical-align: middle;\n",
       "    }\n",
       "\n",
       "    .dataframe tbody tr th {\n",
       "        vertical-align: top;\n",
       "    }\n",
       "\n",
       "    .dataframe thead th {\n",
       "        text-align: right;\n",
       "    }\n",
       "</style>\n",
       "<table border=\"1\" class=\"dataframe\">\n",
       "  <thead>\n",
       "    <tr style=\"text-align: right;\">\n",
       "      <th></th>\n",
       "      <th>Id</th>\n",
       "      <th>ActivityDate</th>\n",
       "      <th>TotalSteps</th>\n",
       "      <th>VeryActiveMinutes</th>\n",
       "      <th>FairlyActiveMinutes</th>\n",
       "      <th>LightlyActiveMinutes</th>\n",
       "      <th>SedentaryMinutes</th>\n",
       "      <th>Calories</th>\n",
       "      <th>wear_percent</th>\n",
       "      <th>wear_cat</th>\n",
       "    </tr>\n",
       "  </thead>\n",
       "  <tbody>\n",
       "    <tr>\n",
       "      <th>0</th>\n",
       "      <td>1503960366</td>\n",
       "      <td>2016-04-12</td>\n",
       "      <td>13162</td>\n",
       "      <td>25</td>\n",
       "      <td>13</td>\n",
       "      <td>328</td>\n",
       "      <td>728</td>\n",
       "      <td>1985</td>\n",
       "      <td>75.972222</td>\n",
       "      <td>most of the day</td>\n",
       "    </tr>\n",
       "    <tr>\n",
       "      <th>1</th>\n",
       "      <td>1503960366</td>\n",
       "      <td>2016-04-13</td>\n",
       "      <td>10735</td>\n",
       "      <td>21</td>\n",
       "      <td>19</td>\n",
       "      <td>217</td>\n",
       "      <td>776</td>\n",
       "      <td>1797</td>\n",
       "      <td>71.736111</td>\n",
       "      <td>more than half day</td>\n",
       "    </tr>\n",
       "    <tr>\n",
       "      <th>2</th>\n",
       "      <td>1503960366</td>\n",
       "      <td>2016-04-14</td>\n",
       "      <td>10460</td>\n",
       "      <td>30</td>\n",
       "      <td>11</td>\n",
       "      <td>181</td>\n",
       "      <td>1218</td>\n",
       "      <td>1776</td>\n",
       "      <td>100.000000</td>\n",
       "      <td>most of the day</td>\n",
       "    </tr>\n",
       "    <tr>\n",
       "      <th>3</th>\n",
       "      <td>1503960366</td>\n",
       "      <td>2016-04-15</td>\n",
       "      <td>9762</td>\n",
       "      <td>29</td>\n",
       "      <td>34</td>\n",
       "      <td>209</td>\n",
       "      <td>726</td>\n",
       "      <td>1745</td>\n",
       "      <td>69.305556</td>\n",
       "      <td>more than half day</td>\n",
       "    </tr>\n",
       "    <tr>\n",
       "      <th>4</th>\n",
       "      <td>1503960366</td>\n",
       "      <td>2016-04-16</td>\n",
       "      <td>12669</td>\n",
       "      <td>36</td>\n",
       "      <td>10</td>\n",
       "      <td>221</td>\n",
       "      <td>773</td>\n",
       "      <td>1863</td>\n",
       "      <td>72.222222</td>\n",
       "      <td>more than half day</td>\n",
       "    </tr>\n",
       "  </tbody>\n",
       "</table>\n",
       "</div>"
      ],
      "text/plain": [
       "           Id ActivityDate  TotalSteps  VeryActiveMinutes  \\\n",
       "0  1503960366   2016-04-12       13162                 25   \n",
       "1  1503960366   2016-04-13       10735                 21   \n",
       "2  1503960366   2016-04-14       10460                 30   \n",
       "3  1503960366   2016-04-15        9762                 29   \n",
       "4  1503960366   2016-04-16       12669                 36   \n",
       "\n",
       "   FairlyActiveMinutes  LightlyActiveMinutes  SedentaryMinutes  Calories  \\\n",
       "0                   13                   328               728      1985   \n",
       "1                   19                   217               776      1797   \n",
       "2                   11                   181              1218      1776   \n",
       "3                   34                   209               726      1745   \n",
       "4                   10                   221               773      1863   \n",
       "\n",
       "   wear_percent            wear_cat  \n",
       "0     75.972222     most of the day  \n",
       "1     71.736111  more than half day  \n",
       "2    100.000000     most of the day  \n",
       "3     69.305556  more than half day  \n",
       "4     72.222222  more than half day  "
      ]
     },
     "execution_count": 14,
     "metadata": {},
     "output_type": "execute_result"
    }
   ],
   "source": [
    "# creating new columns : 'wear_percent' contains the wear time percentage each day, \n",
    "# 'wear_cat' catagorize wear_percent into catagories where\n",
    "# 0-25% -> barely\n",
    "# 25-50% -> less than half of the day\n",
    "# 50-75% -> more than half of the day\n",
    "# 75-100% -> most of the day\n",
    "\n",
    "activity['wear_percent'] = (activity['VeryActiveMinutes'] + activity['FairlyActiveMinutes'] + activity['LightlyActiveMinutes'] + activity['SedentaryMinutes']) / 1440 * 100\n",
    "activity['wear_cat'] = pd.cut(activity['wear_percent'], [0, 25, 50 ,75, 100], labels = ['barely', 'less than half day', 'more than half day', 'most of the day'])\n",
    "activity.head()"
   ]
  },
  {
   "cell_type": "code",
   "execution_count": 15,
   "id": "4639775e",
   "metadata": {
    "execution": {
     "iopub.execute_input": "2022-10-25T16:46:44.991077Z",
     "iopub.status.busy": "2022-10-25T16:46:44.990674Z",
     "iopub.status.idle": "2022-10-25T16:46:45.006795Z",
     "shell.execute_reply": "2022-10-25T16:46:45.005528Z"
    },
    "papermill": {
     "duration": 0.03409,
     "end_time": "2022-10-25T16:46:45.009418",
     "exception": false,
     "start_time": "2022-10-25T16:46:44.975328",
     "status": "completed"
    },
    "tags": []
   },
   "outputs": [
    {
     "data": {
      "text/html": [
       "<div>\n",
       "<style scoped>\n",
       "    .dataframe tbody tr th:only-of-type {\n",
       "        vertical-align: middle;\n",
       "    }\n",
       "\n",
       "    .dataframe tbody tr th {\n",
       "        vertical-align: top;\n",
       "    }\n",
       "\n",
       "    .dataframe thead th {\n",
       "        text-align: right;\n",
       "    }\n",
       "</style>\n",
       "<table border=\"1\" class=\"dataframe\">\n",
       "  <thead>\n",
       "    <tr style=\"text-align: right;\">\n",
       "      <th></th>\n",
       "      <th>wear_cat</th>\n",
       "      <th>count</th>\n",
       "    </tr>\n",
       "  </thead>\n",
       "  <tbody>\n",
       "    <tr>\n",
       "      <th>0</th>\n",
       "      <td>barely</td>\n",
       "      <td>9</td>\n",
       "    </tr>\n",
       "    <tr>\n",
       "      <th>1</th>\n",
       "      <td>less than half day</td>\n",
       "      <td>16</td>\n",
       "    </tr>\n",
       "    <tr>\n",
       "      <th>2</th>\n",
       "      <td>more than half day</td>\n",
       "      <td>346</td>\n",
       "    </tr>\n",
       "    <tr>\n",
       "      <th>3</th>\n",
       "      <td>most of the day</td>\n",
       "      <td>565</td>\n",
       "    </tr>\n",
       "  </tbody>\n",
       "</table>\n",
       "</div>"
      ],
      "text/plain": [
       "             wear_cat  count\n",
       "0              barely      9\n",
       "1  less than half day     16\n",
       "2  more than half day    346\n",
       "3     most of the day    565"
      ]
     },
     "execution_count": 15,
     "metadata": {},
     "output_type": "execute_result"
    }
   ],
   "source": [
    "# counting each catagory\n",
    "wear_cat_count = activity.groupby('wear_cat').count()['Id'].reset_index().rename(columns = {'Id':'count'})\n",
    "wear_cat_count"
   ]
  },
  {
   "cell_type": "code",
   "execution_count": 16,
   "id": "8d20fc04",
   "metadata": {
    "execution": {
     "iopub.execute_input": "2022-10-25T16:46:45.039924Z",
     "iopub.status.busy": "2022-10-25T16:46:45.038919Z",
     "iopub.status.idle": "2022-10-25T16:46:45.247970Z",
     "shell.execute_reply": "2022-10-25T16:46:45.246190Z"
    },
    "papermill": {
     "duration": 0.228326,
     "end_time": "2022-10-25T16:46:45.252317",
     "exception": false,
     "start_time": "2022-10-25T16:46:45.023991",
     "status": "completed"
    },
    "tags": []
   },
   "outputs": [
    {
     "data": {
      "image/png": "[encoded data removed]",
      "text/plain": [
       "<Figure size 432x432 with 1 Axes>"
      ]
     },
     "metadata": {},
     "output_type": "display_data"
    }
   ],
   "source": [
    "plt.figure(figsize = (6, 6))\n",
    "colors = ['#A8A4CE', '#C8B6E2', '#7A86B6', '#495C83']\n",
    "explode = (0.05,0.05,0.05,0.05)\n",
    "\n",
    "plt.pie(wear_cat_count['count'], labels=wear_cat_count['wear_cat'], autopct='%.0f%%', colors=colors, explode=explode, pctdistance=0.85)\n",
    "\n",
    "centre_circle = plt.Circle((0,0),0.70,fc='white')\n",
    "\n",
    "plt.title('Time worn per day')\n",
    "fig = plt.gcf()\n",
    "fig.gca().add_artist(centre_circle)\n",
    "plt.tight_layout()\n",
    "plt.show()"
   ]
  },
  {
   "cell_type": "markdown",
   "id": "299ea68d",
   "metadata": {
    "papermill": {
     "duration": 0.022001,
     "end_time": "2022-10-25T16:46:45.309335",
     "exception": false,
     "start_time": "2022-10-25T16:46:45.287334",
     "status": "completed"
    },
    "tags": []
   },
   "source": [
    "From the graph above, we can see that more than 97% of participants have been wearing smart device more than half of the day.\n",
    "Hence, we are going to remove the case where participants used smart device less than half day since it is only the minority of samples and it could misdirect our analysis."
   ]
  },
  {
   "cell_type": "code",
   "execution_count": 17,
   "id": "dfe1c6f9",
   "metadata": {
    "execution": {
     "iopub.execute_input": "2022-10-25T16:46:45.339066Z",
     "iopub.status.busy": "2022-10-25T16:46:45.338693Z",
     "iopub.status.idle": "2022-10-25T16:46:45.355914Z",
     "shell.execute_reply": "2022-10-25T16:46:45.354717Z"
    },
    "papermill": {
     "duration": 0.035139,
     "end_time": "2022-10-25T16:46:45.358504",
     "exception": false,
     "start_time": "2022-10-25T16:46:45.323365",
     "status": "completed"
    },
    "tags": []
   },
   "outputs": [
    {
     "data": {
      "text/html": [
       "<div>\n",
       "<style scoped>\n",
       "    .dataframe tbody tr th:only-of-type {\n",
       "        vertical-align: middle;\n",
       "    }\n",
       "\n",
       "    .dataframe tbody tr th {\n",
       "        vertical-align: top;\n",
       "    }\n",
       "\n",
       "    .dataframe thead th {\n",
       "        text-align: right;\n",
       "    }\n",
       "</style>\n",
       "<table border=\"1\" class=\"dataframe\">\n",
       "  <thead>\n",
       "    <tr style=\"text-align: right;\">\n",
       "      <th></th>\n",
       "      <th>wear_cat</th>\n",
       "      <th>count</th>\n",
       "    </tr>\n",
       "  </thead>\n",
       "  <tbody>\n",
       "    <tr>\n",
       "      <th>0</th>\n",
       "      <td>barely</td>\n",
       "      <td>0</td>\n",
       "    </tr>\n",
       "    <tr>\n",
       "      <th>1</th>\n",
       "      <td>less than half day</td>\n",
       "      <td>0</td>\n",
       "    </tr>\n",
       "    <tr>\n",
       "      <th>2</th>\n",
       "      <td>more than half day</td>\n",
       "      <td>346</td>\n",
       "    </tr>\n",
       "    <tr>\n",
       "      <th>3</th>\n",
       "      <td>most of the day</td>\n",
       "      <td>565</td>\n",
       "    </tr>\n",
       "  </tbody>\n",
       "</table>\n",
       "</div>"
      ],
      "text/plain": [
       "             wear_cat  count\n",
       "0              barely      0\n",
       "1  less than half day      0\n",
       "2  more than half day    346\n",
       "3     most of the day    565"
      ]
     },
     "execution_count": 17,
     "metadata": {},
     "output_type": "execute_result"
    }
   ],
   "source": [
    "# removing 'wear_cat' == less than half day or barely\n",
    "activity = activity[(activity['wear_cat'] != 'less than half day') & (activity['wear_cat'] != 'barely')]\n",
    "wear_cat_count = activity.groupby('wear_cat').count()['Id'].reset_index().rename(columns = {'Id':'count'})\n",
    "wear_cat_count"
   ]
  },
  {
   "cell_type": "markdown",
   "id": "f4122e74",
   "metadata": {
    "papermill": {
     "duration": 0.013625,
     "end_time": "2022-10-25T16:46:45.386279",
     "exception": false,
     "start_time": "2022-10-25T16:46:45.372654",
     "status": "completed"
    },
    "tags": []
   },
   "source": [
    "# Analysis : Finding average sedentary time "
   ]
  },
  {
   "cell_type": "code",
   "execution_count": 18,
   "id": "093096b0",
   "metadata": {
    "execution": {
     "iopub.execute_input": "2022-10-25T16:46:45.421641Z",
     "iopub.status.busy": "2022-10-25T16:46:45.420829Z",
     "iopub.status.idle": "2022-10-25T16:46:45.449800Z",
     "shell.execute_reply": "2022-10-25T16:46:45.448939Z"
    },
    "papermill": {
     "duration": 0.05171,
     "end_time": "2022-10-25T16:46:45.451992",
     "exception": false,
     "start_time": "2022-10-25T16:46:45.400282",
     "status": "completed"
    },
    "tags": []
   },
   "outputs": [
    {
     "data": {
      "text/html": [
       "<div>\n",
       "<style scoped>\n",
       "    .dataframe tbody tr th:only-of-type {\n",
       "        vertical-align: middle;\n",
       "    }\n",
       "\n",
       "    .dataframe tbody tr th {\n",
       "        vertical-align: top;\n",
       "    }\n",
       "\n",
       "    .dataframe thead th {\n",
       "        text-align: right;\n",
       "    }\n",
       "</style>\n",
       "<table border=\"1\" class=\"dataframe\">\n",
       "  <thead>\n",
       "    <tr style=\"text-align: right;\">\n",
       "      <th></th>\n",
       "      <th>Id</th>\n",
       "      <th>ActivityDate</th>\n",
       "      <th>TotalSteps</th>\n",
       "      <th>VeryActiveMinutes</th>\n",
       "      <th>FairlyActiveMinutes</th>\n",
       "      <th>LightlyActiveMinutes</th>\n",
       "      <th>SedentaryMinutes</th>\n",
       "      <th>Calories</th>\n",
       "      <th>wear_percent</th>\n",
       "      <th>wear_cat</th>\n",
       "      <th>TotalSleepRecords</th>\n",
       "      <th>TotalMinutesAsleep</th>\n",
       "      <th>TotalTimeInBed</th>\n",
       "    </tr>\n",
       "  </thead>\n",
       "  <tbody>\n",
       "    <tr>\n",
       "      <th>0</th>\n",
       "      <td>1503960366</td>\n",
       "      <td>2016-04-12</td>\n",
       "      <td>13162</td>\n",
       "      <td>25</td>\n",
       "      <td>13</td>\n",
       "      <td>328</td>\n",
       "      <td>728</td>\n",
       "      <td>1985</td>\n",
       "      <td>75.972222</td>\n",
       "      <td>most of the day</td>\n",
       "      <td>1</td>\n",
       "      <td>327</td>\n",
       "      <td>346</td>\n",
       "    </tr>\n",
       "    <tr>\n",
       "      <th>1</th>\n",
       "      <td>1503960366</td>\n",
       "      <td>2016-04-13</td>\n",
       "      <td>10735</td>\n",
       "      <td>21</td>\n",
       "      <td>19</td>\n",
       "      <td>217</td>\n",
       "      <td>776</td>\n",
       "      <td>1797</td>\n",
       "      <td>71.736111</td>\n",
       "      <td>more than half day</td>\n",
       "      <td>2</td>\n",
       "      <td>384</td>\n",
       "      <td>407</td>\n",
       "    </tr>\n",
       "    <tr>\n",
       "      <th>2</th>\n",
       "      <td>1503960366</td>\n",
       "      <td>2016-04-15</td>\n",
       "      <td>9762</td>\n",
       "      <td>29</td>\n",
       "      <td>34</td>\n",
       "      <td>209</td>\n",
       "      <td>726</td>\n",
       "      <td>1745</td>\n",
       "      <td>69.305556</td>\n",
       "      <td>more than half day</td>\n",
       "      <td>1</td>\n",
       "      <td>412</td>\n",
       "      <td>442</td>\n",
       "    </tr>\n",
       "    <tr>\n",
       "      <th>3</th>\n",
       "      <td>1503960366</td>\n",
       "      <td>2016-04-16</td>\n",
       "      <td>12669</td>\n",
       "      <td>36</td>\n",
       "      <td>10</td>\n",
       "      <td>221</td>\n",
       "      <td>773</td>\n",
       "      <td>1863</td>\n",
       "      <td>72.222222</td>\n",
       "      <td>more than half day</td>\n",
       "      <td>2</td>\n",
       "      <td>340</td>\n",
       "      <td>367</td>\n",
       "    </tr>\n",
       "    <tr>\n",
       "      <th>4</th>\n",
       "      <td>1503960366</td>\n",
       "      <td>2016-04-17</td>\n",
       "      <td>9705</td>\n",
       "      <td>38</td>\n",
       "      <td>20</td>\n",
       "      <td>164</td>\n",
       "      <td>539</td>\n",
       "      <td>1728</td>\n",
       "      <td>52.847222</td>\n",
       "      <td>more than half day</td>\n",
       "      <td>1</td>\n",
       "      <td>700</td>\n",
       "      <td>712</td>\n",
       "    </tr>\n",
       "  </tbody>\n",
       "</table>\n",
       "</div>"
      ],
      "text/plain": [
       "           Id ActivityDate  TotalSteps  VeryActiveMinutes  \\\n",
       "0  1503960366   2016-04-12       13162                 25   \n",
       "1  1503960366   2016-04-13       10735                 21   \n",
       "2  1503960366   2016-04-15        9762                 29   \n",
       "3  1503960366   2016-04-16       12669                 36   \n",
       "4  1503960366   2016-04-17        9705                 38   \n",
       "\n",
       "   FairlyActiveMinutes  LightlyActiveMinutes  SedentaryMinutes  Calories  \\\n",
       "0                   13                   328               728      1985   \n",
       "1                   19                   217               776      1797   \n",
       "2                   34                   209               726      1745   \n",
       "3                   10                   221               773      1863   \n",
       "4                   20                   164               539      1728   \n",
       "\n",
       "   wear_percent            wear_cat  TotalSleepRecords  TotalMinutesAsleep  \\\n",
       "0     75.972222     most of the day                  1                 327   \n",
       "1     71.736111  more than half day                  2                 384   \n",
       "2     69.305556  more than half day                  1                 412   \n",
       "3     72.222222  more than half day                  2                 340   \n",
       "4     52.847222  more than half day                  1                 700   \n",
       "\n",
       "   TotalTimeInBed  \n",
       "0             346  \n",
       "1             407  \n",
       "2             442  \n",
       "3             367  \n",
       "4             712  "
      ]
     },
     "execution_count": 18,
     "metadata": {},
     "output_type": "execute_result"
    }
   ],
   "source": [
    "# inner joining for matching 'Id' and 'Date'\n",
    "merged_act_sleep = pd.merge(activity, sleep, left_on = ['Id', 'ActivityDate'], right_on = ['Id', 'SleepDay'], how =  'inner')\n",
    "merged_act_sleep.drop(columns = ['SleepDay'], inplace = True)\n",
    "merged_act_sleep.head()"
   ]
  },
  {
   "cell_type": "code",
   "execution_count": 19,
   "id": "4a7072c0",
   "metadata": {
    "execution": {
     "iopub.execute_input": "2022-10-25T16:46:45.482910Z",
     "iopub.status.busy": "2022-10-25T16:46:45.482035Z",
     "iopub.status.idle": "2022-10-25T16:46:45.491194Z",
     "shell.execute_reply": "2022-10-25T16:46:45.489443Z"
    },
    "papermill": {
     "duration": 0.027426,
     "end_time": "2022-10-25T16:46:45.493838",
     "exception": false,
     "start_time": "2022-10-25T16:46:45.466412",
     "status": "completed"
    },
    "tags": []
   },
   "outputs": [
    {
     "name": "stdout",
     "output_type": "stream",
     "text": [
      "Average daily sitting time : 5.3 hrs\n"
     ]
    }
   ],
   "source": [
    "sit_hr = ((merged_act_sleep['SedentaryMinutes'] - merged_act_sleep['TotalTimeInBed']) / 60)\n",
    "sit_hr = sit_hr[sit_hr >= 0]\n",
    "print('Average daily sitting time : ' + str(np.around(sit_hr.mean(), 1)) + ' hrs')"
   ]
  },
  {
   "cell_type": "code",
   "execution_count": 20,
   "id": "f7b586dc",
   "metadata": {
    "execution": {
     "iopub.execute_input": "2022-10-25T16:46:45.524885Z",
     "iopub.status.busy": "2022-10-25T16:46:45.524103Z",
     "iopub.status.idle": "2022-10-25T16:46:45.531783Z",
     "shell.execute_reply": "2022-10-25T16:46:45.530745Z"
    },
    "papermill": {
     "duration": 0.025672,
     "end_time": "2022-10-25T16:46:45.533883",
     "exception": false,
     "start_time": "2022-10-25T16:46:45.508211",
     "status": "completed"
    },
    "tags": []
   },
   "outputs": [
    {
     "data": {
      "text/plain": [
       "[5.322064393939394, 7.5073931623931625, 11.170542443667445]"
      ]
     },
     "execution_count": 20,
     "metadata": {},
     "output_type": "execute_result"
    }
   ],
   "source": [
    "# creating dataframe for pie chart\n",
    "plot_df = [sit_hr.mean(), merged_act_sleep['TotalTimeInBed'].mean() / 60]\n",
    "plot_df.append(24 - plot_df[0] - plot_df[1])\n",
    "plot_df"
   ]
  },
  {
   "cell_type": "code",
   "execution_count": 21,
   "id": "8a9cd83a",
   "metadata": {
    "execution": {
     "iopub.execute_input": "2022-10-25T16:46:45.565111Z",
     "iopub.status.busy": "2022-10-25T16:46:45.564363Z",
     "iopub.status.idle": "2022-10-25T16:46:45.743424Z",
     "shell.execute_reply": "2022-10-25T16:46:45.741825Z"
    },
    "papermill": {
     "duration": 0.199264,
     "end_time": "2022-10-25T16:46:45.747761",
     "exception": false,
     "start_time": "2022-10-25T16:46:45.548497",
     "status": "completed"
    },
    "tags": []
   },
   "outputs": [
    {
     "data": {
      "image/png": "[encoded data removed]",
      "text/plain": [
       "<Figure size 432x432 with 1 Axes>"
      ]
     },
     "metadata": {},
     "output_type": "display_data"
    }
   ],
   "source": [
    "plt.figure(figsize = (6, 6))\n",
    "colors = ['salmon', '#495C83', '#A8A4CE']\n",
    "explode = (0.1,0,0)\n",
    "\n",
    "plt.pie(plot_df, labels=['sedentary', 'sleep', 'active'], autopct=lambda x: '{:.1f}'.format(x), colors=colors, explode=explode, pctdistance=0.85)\n",
    "\n",
    "centre_circle = plt.Circle((0,0),0.70,fc='white')\n",
    "fig = plt.gcf()\n",
    "fig.gca().add_artist(centre_circle)\n",
    "\n",
    "plt.tight_layout()\n",
    "plt.title('action in the day')\n",
    "plt.show()"
   ]
  },
  {
   "cell_type": "markdown",
   "id": "90ecc23a",
   "metadata": {
    "papermill": {
     "duration": 0.022221,
     "end_time": "2022-10-25T16:46:45.807799",
     "exception": false,
     "start_time": "2022-10-25T16:46:45.785578",
     "status": "completed"
    },
    "tags": []
   },
   "source": [
    "Participants have been staying stationary on average of 5.3 hours during the day.\n",
    "This can leads to chronic muscular injuries (neck, shoulder, back, etc.) if the habit continues. \n",
    "Therefore, **BellaBeat app could notify the users that they've been sitting for too long and encourages them to change posture and stretch for a few seconds**.\n",
    "The app can even **recommend specific stretch exercises** according to the users' current physical problem (by their inputs, eg. stiff neck, shoulder pain). This solution can help users create heathier habits which benefit their own health in the long run."
   ]
  },
  {
   "cell_type": "markdown",
   "id": "9db54b0a",
   "metadata": {
    "papermill": {
     "duration": 0.015323,
     "end_time": "2022-10-25T16:46:45.838685",
     "exception": false,
     "start_time": "2022-10-25T16:46:45.823362",
     "status": "completed"
    },
    "tags": []
   },
   "source": [
    "# Analysis : Looking at 'hr_steps' #"
   ]
  },
  {
   "cell_type": "markdown",
   "id": "77acf0e7",
   "metadata": {
    "papermill": {
     "duration": 0.015166,
     "end_time": "2022-10-25T16:46:45.869069",
     "exception": false,
     "start_time": "2022-10-25T16:46:45.853903",
     "status": "completed"
    },
    "tags": []
   },
   "source": [
    "We are going to find when participants are more active throughout the day."
   ]
  },
  {
   "cell_type": "code",
   "execution_count": 22,
   "id": "fa18a52a",
   "metadata": {
    "execution": {
     "iopub.execute_input": "2022-10-25T16:46:45.902564Z",
     "iopub.status.busy": "2022-10-25T16:46:45.902107Z",
     "iopub.status.idle": "2022-10-25T16:46:46.100186Z",
     "shell.execute_reply": "2022-10-25T16:46:46.098971Z"
    },
    "papermill": {
     "duration": 0.218004,
     "end_time": "2022-10-25T16:46:46.103193",
     "exception": false,
     "start_time": "2022-10-25T16:46:45.885189",
     "status": "completed"
    },
    "tags": []
   },
   "outputs": [],
   "source": [
    "# putting date and time into seperated column\n",
    "hr_steps['date'] = [x.date() for x in hr_steps['ActivityHour']]\n",
    "hr_steps['hr'] = hr_steps['ActivityHour'].dt.hour\n",
    "hr_steps = hr_steps[['Id', 'date', 'hr', 'StepTotal']]"
   ]
  },
  {
   "cell_type": "code",
   "execution_count": 23,
   "id": "6c65791d",
   "metadata": {
    "execution": {
     "iopub.execute_input": "2022-10-25T16:46:46.135924Z",
     "iopub.status.busy": "2022-10-25T16:46:46.135506Z",
     "iopub.status.idle": "2022-10-25T16:46:46.146996Z",
     "shell.execute_reply": "2022-10-25T16:46:46.145869Z"
    },
    "papermill": {
     "duration": 0.030751,
     "end_time": "2022-10-25T16:46:46.149179",
     "exception": false,
     "start_time": "2022-10-25T16:46:46.118428",
     "status": "completed"
    },
    "tags": []
   },
   "outputs": [
    {
     "data": {
      "text/html": [
       "<div>\n",
       "<style scoped>\n",
       "    .dataframe tbody tr th:only-of-type {\n",
       "        vertical-align: middle;\n",
       "    }\n",
       "\n",
       "    .dataframe tbody tr th {\n",
       "        vertical-align: top;\n",
       "    }\n",
       "\n",
       "    .dataframe thead th {\n",
       "        text-align: right;\n",
       "    }\n",
       "</style>\n",
       "<table border=\"1\" class=\"dataframe\">\n",
       "  <thead>\n",
       "    <tr style=\"text-align: right;\">\n",
       "      <th></th>\n",
       "      <th>Id</th>\n",
       "      <th>date</th>\n",
       "      <th>hr</th>\n",
       "      <th>StepTotal</th>\n",
       "    </tr>\n",
       "  </thead>\n",
       "  <tbody>\n",
       "    <tr>\n",
       "      <th>0</th>\n",
       "      <td>1503960366</td>\n",
       "      <td>2016-04-12</td>\n",
       "      <td>0</td>\n",
       "      <td>373</td>\n",
       "    </tr>\n",
       "    <tr>\n",
       "      <th>1</th>\n",
       "      <td>1503960366</td>\n",
       "      <td>2016-04-12</td>\n",
       "      <td>1</td>\n",
       "      <td>160</td>\n",
       "    </tr>\n",
       "    <tr>\n",
       "      <th>2</th>\n",
       "      <td>1503960366</td>\n",
       "      <td>2016-04-12</td>\n",
       "      <td>2</td>\n",
       "      <td>151</td>\n",
       "    </tr>\n",
       "    <tr>\n",
       "      <th>3</th>\n",
       "      <td>1503960366</td>\n",
       "      <td>2016-04-12</td>\n",
       "      <td>3</td>\n",
       "      <td>0</td>\n",
       "    </tr>\n",
       "    <tr>\n",
       "      <th>4</th>\n",
       "      <td>1503960366</td>\n",
       "      <td>2016-04-12</td>\n",
       "      <td>4</td>\n",
       "      <td>0</td>\n",
       "    </tr>\n",
       "  </tbody>\n",
       "</table>\n",
       "</div>"
      ],
      "text/plain": [
       "           Id        date  hr  StepTotal\n",
       "0  1503960366  2016-04-12   0        373\n",
       "1  1503960366  2016-04-12   1        160\n",
       "2  1503960366  2016-04-12   2        151\n",
       "3  1503960366  2016-04-12   3          0\n",
       "4  1503960366  2016-04-12   4          0"
      ]
     },
     "execution_count": 23,
     "metadata": {},
     "output_type": "execute_result"
    }
   ],
   "source": [
    "hr_steps.head()"
   ]
  },
  {
   "cell_type": "code",
   "execution_count": 24,
   "id": "31c9d34b",
   "metadata": {
    "execution": {
     "iopub.execute_input": "2022-10-25T16:46:46.182115Z",
     "iopub.status.busy": "2022-10-25T16:46:46.181724Z",
     "iopub.status.idle": "2022-10-25T16:46:46.562826Z",
     "shell.execute_reply": "2022-10-25T16:46:46.561898Z"
    },
    "papermill": {
     "duration": 0.40055,
     "end_time": "2022-10-25T16:46:46.565184",
     "exception": false,
     "start_time": "2022-10-25T16:46:46.164634",
     "status": "completed"
    },
    "tags": []
   },
   "outputs": [
    {
     "data": {
      "image/png": "[encoded data removed]",
      "text/plain": [
       "<Figure size 576x288 with 1 Axes>"
      ]
     },
     "metadata": {},
     "output_type": "display_data"
    }
   ],
   "source": [
    "plot_df = hr_steps[['hr', 'StepTotal']].groupby('hr').mean().rename(columns={'StepTotal':'AvgStepTotal'})\n",
    "\n",
    "# set order of hours\n",
    "hour_order = [6,7,8,9,10,11,12,13,14,15,16,17,18,19,20,21,22,23,0,1,2,3,4,5]\n",
    "\n",
    "# calculate frequencies of each hour and sort them\n",
    "plot_df = plot_df.loc[hour_order].reset_index()\n",
    "\n",
    "# day / night colour split\n",
    "day_mask = ((6 <= plot_df['hr']) & (plot_df['hr'] <= 20))\n",
    "plot_df['color'] = np.where(day_mask, 'gold', 'midnightblue')\n",
    "\n",
    "fig = plt.figure(figsize=(8,4))\n",
    "ax = fig.add_subplot(111)\n",
    "\n",
    "ax.bar(\n",
    "    x=plot_df['hr'].astype(str),\n",
    "    height=plot_df['AvgStepTotal'],\n",
    "    color=plot_df['color'], width=1)\n",
    "\n",
    "ax.set_xlabel('Hour')\n",
    "ax.set_ylabel('AvgStepTotal')\n",
    "ax.set_title('Average Step throughout the day')\n",
    "plt.show()"
   ]
  },
  {
   "cell_type": "markdown",
   "id": "e8004284",
   "metadata": {
    "papermill": {
     "duration": 0.01593,
     "end_time": "2022-10-25T16:46:46.596976",
     "exception": false,
     "start_time": "2022-10-25T16:46:46.581046",
     "status": "completed"
    },
    "tags": []
   },
   "source": [
    "We can see that users are more active during the lunch between 12pm - 2pm and during evening between 5pm - 7pm. "
   ]
  },
  {
   "cell_type": "markdown",
   "id": "fd8fb4a8",
   "metadata": {
    "papermill": {
     "duration": 0.015062,
     "end_time": "2022-10-25T16:46:46.627664",
     "exception": false,
     "start_time": "2022-10-25T16:46:46.612602",
     "status": "completed"
    },
    "tags": []
   },
   "source": [
    "# Analysis : Sleep"
   ]
  },
  {
   "cell_type": "code",
   "execution_count": 25,
   "id": "9e70058e",
   "metadata": {
    "execution": {
     "iopub.execute_input": "2022-10-25T16:46:46.660843Z",
     "iopub.status.busy": "2022-10-25T16:46:46.659853Z",
     "iopub.status.idle": "2022-10-25T16:46:46.673687Z",
     "shell.execute_reply": "2022-10-25T16:46:46.672673Z"
    },
    "papermill": {
     "duration": 0.033014,
     "end_time": "2022-10-25T16:46:46.676197",
     "exception": false,
     "start_time": "2022-10-25T16:46:46.643183",
     "status": "completed"
    },
    "tags": []
   },
   "outputs": [
    {
     "data": {
      "text/html": [
       "<div>\n",
       "<style scoped>\n",
       "    .dataframe tbody tr th:only-of-type {\n",
       "        vertical-align: middle;\n",
       "    }\n",
       "\n",
       "    .dataframe tbody tr th {\n",
       "        vertical-align: top;\n",
       "    }\n",
       "\n",
       "    .dataframe thead th {\n",
       "        text-align: right;\n",
       "    }\n",
       "</style>\n",
       "<table border=\"1\" class=\"dataframe\">\n",
       "  <thead>\n",
       "    <tr style=\"text-align: right;\">\n",
       "      <th></th>\n",
       "      <th>TotalTimeInBed</th>\n",
       "      <th>TotalMinutesAsleep</th>\n",
       "    </tr>\n",
       "    <tr>\n",
       "      <th>Id</th>\n",
       "      <th></th>\n",
       "      <th></th>\n",
       "    </tr>\n",
       "  </thead>\n",
       "  <tbody>\n",
       "    <tr>\n",
       "      <th>2320127002</th>\n",
       "      <td>69.000000</td>\n",
       "      <td>61.000000</td>\n",
       "    </tr>\n",
       "    <tr>\n",
       "      <th>7007744171</th>\n",
       "      <td>71.500000</td>\n",
       "      <td>68.500000</td>\n",
       "    </tr>\n",
       "    <tr>\n",
       "      <th>4558609924</th>\n",
       "      <td>140.000000</td>\n",
       "      <td>127.600000</td>\n",
       "    </tr>\n",
       "    <tr>\n",
       "      <th>3977333714</th>\n",
       "      <td>461.142857</td>\n",
       "      <td>293.642857</td>\n",
       "    </tr>\n",
       "    <tr>\n",
       "      <th>1644430081</th>\n",
       "      <td>346.000000</td>\n",
       "      <td>294.000000</td>\n",
       "    </tr>\n",
       "  </tbody>\n",
       "</table>\n",
       "</div>"
      ],
      "text/plain": [
       "            TotalTimeInBed  TotalMinutesAsleep\n",
       "Id                                            \n",
       "2320127002       69.000000           61.000000\n",
       "7007744171       71.500000           68.500000\n",
       "4558609924      140.000000          127.600000\n",
       "3977333714      461.142857          293.642857\n",
       "1644430081      346.000000          294.000000"
      ]
     },
     "execution_count": 25,
     "metadata": {},
     "output_type": "execute_result"
    }
   ],
   "source": [
    "sleep[['Id', 'TotalTimeInBed', 'TotalMinutesAsleep']].groupby('Id').mean().nsmallest(5, columns = ['TotalMinutesAsleep'])"
   ]
  },
  {
   "cell_type": "code",
   "execution_count": 26,
   "id": "150200c9",
   "metadata": {
    "execution": {
     "iopub.execute_input": "2022-10-25T16:46:46.708989Z",
     "iopub.status.busy": "2022-10-25T16:46:46.708612Z",
     "iopub.status.idle": "2022-10-25T16:46:46.725803Z",
     "shell.execute_reply": "2022-10-25T16:46:46.724622Z"
    },
    "papermill": {
     "duration": 0.036275,
     "end_time": "2022-10-25T16:46:46.728008",
     "exception": false,
     "start_time": "2022-10-25T16:46:46.691733",
     "status": "completed"
    },
    "tags": []
   },
   "outputs": [
    {
     "data": {
      "text/html": [
       "<div>\n",
       "<style scoped>\n",
       "    .dataframe tbody tr th:only-of-type {\n",
       "        vertical-align: middle;\n",
       "    }\n",
       "\n",
       "    .dataframe tbody tr th {\n",
       "        vertical-align: top;\n",
       "    }\n",
       "\n",
       "    .dataframe thead th {\n",
       "        text-align: right;\n",
       "    }\n",
       "</style>\n",
       "<table border=\"1\" class=\"dataframe\">\n",
       "  <thead>\n",
       "    <tr style=\"text-align: right;\">\n",
       "      <th></th>\n",
       "      <th>Id</th>\n",
       "      <th>SleepDay</th>\n",
       "      <th>TotalSleepRecords</th>\n",
       "      <th>TotalMinutesAsleep</th>\n",
       "      <th>TotalTimeInBed</th>\n",
       "      <th>day_of_week</th>\n",
       "    </tr>\n",
       "  </thead>\n",
       "  <tbody>\n",
       "    <tr>\n",
       "      <th>0</th>\n",
       "      <td>1503960366</td>\n",
       "      <td>2016-04-12</td>\n",
       "      <td>1</td>\n",
       "      <td>327</td>\n",
       "      <td>346</td>\n",
       "      <td>Tuesday</td>\n",
       "    </tr>\n",
       "    <tr>\n",
       "      <th>1</th>\n",
       "      <td>1503960366</td>\n",
       "      <td>2016-04-13</td>\n",
       "      <td>2</td>\n",
       "      <td>384</td>\n",
       "      <td>407</td>\n",
       "      <td>Wednesday</td>\n",
       "    </tr>\n",
       "    <tr>\n",
       "      <th>2</th>\n",
       "      <td>1503960366</td>\n",
       "      <td>2016-04-15</td>\n",
       "      <td>1</td>\n",
       "      <td>412</td>\n",
       "      <td>442</td>\n",
       "      <td>Friday</td>\n",
       "    </tr>\n",
       "    <tr>\n",
       "      <th>3</th>\n",
       "      <td>1503960366</td>\n",
       "      <td>2016-04-16</td>\n",
       "      <td>2</td>\n",
       "      <td>340</td>\n",
       "      <td>367</td>\n",
       "      <td>Saturday</td>\n",
       "    </tr>\n",
       "    <tr>\n",
       "      <th>4</th>\n",
       "      <td>1503960366</td>\n",
       "      <td>2016-04-17</td>\n",
       "      <td>1</td>\n",
       "      <td>700</td>\n",
       "      <td>712</td>\n",
       "      <td>Sunday</td>\n",
       "    </tr>\n",
       "  </tbody>\n",
       "</table>\n",
       "</div>"
      ],
      "text/plain": [
       "           Id   SleepDay  TotalSleepRecords  TotalMinutesAsleep  \\\n",
       "0  1503960366 2016-04-12                  1                 327   \n",
       "1  1503960366 2016-04-13                  2                 384   \n",
       "2  1503960366 2016-04-15                  1                 412   \n",
       "3  1503960366 2016-04-16                  2                 340   \n",
       "4  1503960366 2016-04-17                  1                 700   \n",
       "\n",
       "   TotalTimeInBed day_of_week  \n",
       "0             346     Tuesday  \n",
       "1             407   Wednesday  \n",
       "2             442      Friday  \n",
       "3             367    Saturday  \n",
       "4             712      Sunday  "
      ]
     },
     "execution_count": 26,
     "metadata": {},
     "output_type": "execute_result"
    }
   ],
   "source": [
    "# seeing sleep time for each day\n",
    "sleep['day_of_week'] = sleep['SleepDay'].apply(lambda time : time.weekday())\n",
    "week_day_map = (\"Monday\", \"Tuesday\", \"Wednesday\", \"Thursday\", \"Friday\", \"Saturday\", \"Sunday\")\n",
    "sleep['day_of_week'] = sleep['day_of_week'].apply(lambda time : week_day_map[time])\n",
    "sleep.head()"
   ]
  },
  {
   "cell_type": "code",
   "execution_count": 27,
   "id": "72fa4a00",
   "metadata": {
    "execution": {
     "iopub.execute_input": "2022-10-25T16:46:46.761857Z",
     "iopub.status.busy": "2022-10-25T16:46:46.761470Z",
     "iopub.status.idle": "2022-10-25T16:46:46.779581Z",
     "shell.execute_reply": "2022-10-25T16:46:46.778811Z"
    },
    "papermill": {
     "duration": 0.037656,
     "end_time": "2022-10-25T16:46:46.781631",
     "exception": false,
     "start_time": "2022-10-25T16:46:46.743975",
     "status": "completed"
    },
    "tags": []
   },
   "outputs": [
    {
     "data": {
      "text/html": [
       "<div>\n",
       "<style scoped>\n",
       "    .dataframe tbody tr th:only-of-type {\n",
       "        vertical-align: middle;\n",
       "    }\n",
       "\n",
       "    .dataframe tbody tr th {\n",
       "        vertical-align: top;\n",
       "    }\n",
       "\n",
       "    .dataframe thead th {\n",
       "        text-align: right;\n",
       "    }\n",
       "</style>\n",
       "<table border=\"1\" class=\"dataframe\">\n",
       "  <thead>\n",
       "    <tr style=\"text-align: right;\">\n",
       "      <th></th>\n",
       "      <th>day_of_week</th>\n",
       "      <th>columns</th>\n",
       "      <th>value</th>\n",
       "    </tr>\n",
       "  </thead>\n",
       "  <tbody>\n",
       "    <tr>\n",
       "      <th>0</th>\n",
       "      <td>Monday</td>\n",
       "      <td>TotalMinutesAsleep</td>\n",
       "      <td>6.991667</td>\n",
       "    </tr>\n",
       "    <tr>\n",
       "      <th>1</th>\n",
       "      <td>Tuesday</td>\n",
       "      <td>TotalMinutesAsleep</td>\n",
       "      <td>6.742308</td>\n",
       "    </tr>\n",
       "    <tr>\n",
       "      <th>2</th>\n",
       "      <td>Wednesday</td>\n",
       "      <td>TotalMinutesAsleep</td>\n",
       "      <td>7.244697</td>\n",
       "    </tr>\n",
       "    <tr>\n",
       "      <th>3</th>\n",
       "      <td>Thursday</td>\n",
       "      <td>TotalMinutesAsleep</td>\n",
       "      <td>6.688281</td>\n",
       "    </tr>\n",
       "    <tr>\n",
       "      <th>4</th>\n",
       "      <td>Friday</td>\n",
       "      <td>TotalMinutesAsleep</td>\n",
       "      <td>6.757018</td>\n",
       "    </tr>\n",
       "  </tbody>\n",
       "</table>\n",
       "</div>"
      ],
      "text/plain": [
       "  day_of_week             columns     value\n",
       "0      Monday  TotalMinutesAsleep  6.991667\n",
       "1     Tuesday  TotalMinutesAsleep  6.742308\n",
       "2   Wednesday  TotalMinutesAsleep  7.244697\n",
       "3    Thursday  TotalMinutesAsleep  6.688281\n",
       "4      Friday  TotalMinutesAsleep  6.757018"
      ]
     },
     "execution_count": 27,
     "metadata": {},
     "output_type": "execute_result"
    }
   ],
   "source": [
    "plot_df = sleep[['day_of_week', 'TotalMinutesAsleep', 'TotalTimeInBed']].groupby('day_of_week').mean()\n",
    "\n",
    "reorder_list = ['Monday', 'Tuesday', 'Wednesday', 'Thursday', 'Friday', 'Saturday', 'Sunday']\n",
    "plot_df = plot_df.reindex(reorder_list).reset_index()\n",
    "\n",
    "# for this one, I want to try using seaborn to plot multiple columns bar chart. So, I have to reshape dataframe to wide type.\n",
    "wide_plot_df = plot_df.melt('day_of_week', var_name='columns', value_name='value')\n",
    "wide_plot_df['value'] = wide_plot_df['value'] / 60\n",
    "wide_plot_df.head()"
   ]
  },
  {
   "cell_type": "code",
   "execution_count": 28,
   "id": "69c75060",
   "metadata": {
    "execution": {
     "iopub.execute_input": "2022-10-25T16:46:46.815443Z",
     "iopub.status.busy": "2022-10-25T16:46:46.814965Z",
     "iopub.status.idle": "2022-10-25T16:46:47.202709Z",
     "shell.execute_reply": "2022-10-25T16:46:47.201901Z"
    },
    "papermill": {
     "duration": 0.40757,
     "end_time": "2022-10-25T16:46:47.205112",
     "exception": false,
     "start_time": "2022-10-25T16:46:46.797542",
     "status": "completed"
    },
    "tags": []
   },
   "outputs": [
    {
     "data": {
      "image/png": "[encoded data removed]",
      "text/plain": [
       "<Figure size 864x432 with 1 Axes>"
      ]
     },
     "metadata": {},
     "output_type": "display_data"
    }
   ],
   "source": [
    "plt.figure(figsize=(12,6))\n",
    "ax = sns.barplot(x='day_of_week', y='value', hue='columns', data=wide_plot_df, palette='Blues_d')\n",
    "ax.axhline(7, color='black')\n",
    "ax.set_xlabel('Day of the week')\n",
    "ax.set_ylabel('hours')\n",
    "plt.show()"
   ]
  },
  {
   "cell_type": "markdown",
   "id": "83659fba",
   "metadata": {
    "papermill": {
     "duration": 0.016513,
     "end_time": "2022-10-25T16:46:47.238421",
     "exception": false,
     "start_time": "2022-10-25T16:46:47.221908",
     "status": "completed"
    },
    "tags": []
   },
   "source": [
    "We can see that on weekdays participants **tend to sleep less than recommended sleep hour** (at least 7 hours a day). BellaBeat can create a feature that **notify the users if they do not sleep enough**. To reduce time in bed before the users fall asleep, **BellaBeat can recommend podcasts, asmr, relaxing music** to help them fall asleep faster."
   ]
  },
  {
   "cell_type": "markdown",
   "id": "926ae73e",
   "metadata": {
    "papermill": {
     "duration": 0.018221,
     "end_time": "2022-10-25T16:46:47.273218",
     "exception": false,
     "start_time": "2022-10-25T16:46:47.254997",
     "status": "completed"
    },
    "tags": []
   },
   "source": [
    "# Act : Recommended Ideas"
   ]
  },
  {
   "cell_type": "markdown",
   "id": "f88890d8",
   "metadata": {
    "papermill": {
     "duration": 0.016601,
     "end_time": "2022-10-25T16:46:47.307256",
     "exception": false,
     "start_time": "2022-10-25T16:46:47.290655",
     "status": "completed"
    },
    "tags": []
   },
   "source": [
    "After exploring the data and analyzing the data, here are some ideas to improve BellaBeat products.\n",
    "\n",
    "Products\n",
    "*  According to our data analysis, almost all people wear smart device all day, BellaBeat's smart device should look stylish and be lightweight to encourages customers to buy and wear them.\n",
    "\n",
    "App\n",
    "* BellaBeat app could notify the users when they've been sitting for too long and tell them to change posture or stretch for a few seconds. The app can also recommend them stretch exercise according to their current health problem.\n",
    "* BellaBeat app could calculate sleeping time for their users by using their wake-up time or alarm clock time in order to get enough hours of sleep.\n",
    "* BellaBeat app could recommend podcasts, asmr, relaxing music to help the users fall asleep faster.\n",
    "\n",
    "Extra potential ideas (need further analysis)\n",
    "* To motivate the users to exercise more, BellaBeat app could notify the users how many other BellaBeat's users in their area are taking a walk or exercising."
   ]
  },
  {
   "cell_type": "markdown",
   "id": "6e5cac00",
   "metadata": {
    "papermill": {
     "duration": 0.016332,
     "end_time": "2022-10-25T16:46:47.340436",
     "exception": false,
     "start_time": "2022-10-25T16:46:47.324104",
     "status": "completed"
    },
    "tags": []
   },
   "source": [
    "# Self Feedback\n",
    "From this project I learned lots of things, from finding the goals of the project, preparing data, cleaning data, analyzing data and visualizing them. I also learn that how to be creative on the ways to approach the data and creating solutions for them. After finishing this project, I feel more confident to start doing other new projects and hopefully find my way on this 'data' career path."
   ]
  }
 ],
 "metadata": {
  "kernelspec": {
   "display_name": "Python 3.11.0 ('venv': venv)",
   "language": "python",
   "name": "python3"
  },
  "language_info": {
   "codemirror_mode": {
    "name": "ipython",
    "version": 3
   },
   "file_extension": ".py",
   "mimetype": "text/x-python",
   "name": "python",
   "nbconvert_exporter": "python",
   "pygments_lexer": "ipython3",
   "version": "3.11.0"
  },
  "papermill": {
   "default_parameters": {},
   "duration": 19.508594,
   "end_time": "2022-10-25T16:46:48.179759",
   "environment_variables": {},
   "exception": null,
   "input_path": "__notebook__.ipynb",
   "output_path": "__notebook__.ipynb",
   "parameters": {},
   "start_time": "2022-10-25T16:46:28.671165",
   "version": "2.3.4"
  },
  "vscode": {
   "interpreter": {
    "hash": "faab0e9ee9e49dc712a85e0e2405ff626683ff29c84b799188de0513e7e53fe3"
   }
  }
 },
 "nbformat": 4,
 "nbformat_minor": 5
}
